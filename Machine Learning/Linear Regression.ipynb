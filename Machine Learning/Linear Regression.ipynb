{
 "cells": [
  {
   "cell_type": "code",
   "execution_count": null,
   "id": "f0fc5c1e",
   "metadata": {},
   "outputs": [],
   "source": [
    "import numpy as np\n",
    "from sklearn.linear_model import LinearRegression\n",
    "from sklearn.metrics import precision_score, recall_score, f1_score, accuracy_score, confusion_matrix"
   ]
  },
  {
   "cell_type": "code",
   "execution_count": 19,
   "id": "22ec35c0",
   "metadata": {},
   "outputs": [
    {
     "data": {
      "text/plain": [
       "array([[ 4],\n",
       "       [12],\n",
       "       [16],\n",
       "       [20],\n",
       "       [24],\n",
       "       [36],\n",
       "       [40]])"
      ]
     },
     "execution_count": 19,
     "metadata": {},
     "output_type": "execute_result"
    }
   ],
   "source": [
    "input_feature_x = np.array([4, 12, 16, 20, 24, 36, 40]).reshape((-1, 1))\n",
    "output_y = np.array([4, 17, 10, 18, 26, 32, 33])\n",
    "input_feature_x"
   ]
  },
  {
   "cell_type": "code",
   "execution_count": 20,
   "id": "e950e0ee",
   "metadata": {},
   "outputs": [
    {
     "data": {
      "text/plain": [
       "LinearRegression()"
      ]
     },
     "execution_count": 20,
     "metadata": {},
     "output_type": "execute_result"
    }
   ],
   "source": [
    "my_linear_regerssion_model = LinearRegression()\n",
    "my_linear_regerssion_model.fit(input_feature_x, output_y)"
   ]
  },
  {
   "cell_type": "code",
   "execution_count": 21,
   "id": "12bc3cf7",
   "metadata": {},
   "outputs": [
    {
     "data": {
      "text/plain": [
       "array([0.80613426])"
      ]
     },
     "execution_count": 21,
     "metadata": {},
     "output_type": "execute_result"
    }
   ],
   "source": [
    "my_linear_regerssion_model.coef_"
   ]
  },
  {
   "cell_type": "code",
   "execution_count": 22,
   "id": "81763840",
   "metadata": {},
   "outputs": [
    {
     "data": {
      "text/plain": [
       "array([12.16898148, 17.00578704, 17.8119213 , 18.61805556, 19.42418981,\n",
       "       26.67939815, 28.29166667, 32.32233796])"
      ]
     },
     "execution_count": 22,
     "metadata": {},
     "output_type": "execute_result"
    }
   ],
   "source": [
    "predection_array = np.array([12,18,19,20,21,30,32,37]).reshape(-1,1)\n",
    "my_linear_regerssion_model.predict(predection_array)"
   ]
  },
  {
   "cell_type": "code",
   "execution_count": null,
   "id": "57ada668",
   "metadata": {},
   "outputs": [],
   "source": []
  }
 ],
 "metadata": {
  "kernelspec": {
   "display_name": "Python 3",
   "language": "python",
   "name": "python3"
  },
  "language_info": {
   "codemirror_mode": {
    "name": "ipython",
    "version": 3
   },
   "file_extension": ".py",
   "mimetype": "text/x-python",
   "name": "python",
   "nbconvert_exporter": "python",
   "pygments_lexer": "ipython3",
   "version": "3.8.8"
  }
 },
 "nbformat": 4,
 "nbformat_minor": 5
}
